{
 "cells": [
  {
   "cell_type": "markdown",
   "id": "4cdb1824-482e-4646-8ceb-d7cc0186d691",
   "metadata": {},
   "source": [
    "\"\"\"\n",
    "Author: Michael Drob\n",
    "Contact: https://www.linkedin.com/in/michael-drob/\n",
    "License: Apache 2.0\n",
    "\n",
    "This program is free software: you can redistribute it and/or modify\n",
    "it under the terms of the Apache License as published by\n",
    "the Free Software Foundation, either version 2 of the License, or\n",
    "(at your option) any later version.\n",
    "\n",
    "This program is distributed in the hope that it will be useful,\n",
    "but WITHOUT ANY WARRANTY; without even the implied warranty of\n",
    "MERCHANTABILITY or FITNESS FOR A PARTICULAR PURPOSE. See the\n",
    "Apache License for more details.\n",
    "\n",
    "You should have received a copy of the Apache License\n",
    "along with this program. If not, see <http://www.apache.org/licenses/LICENSE-2.0>.\n",
    "\"\"\""
   ]
  },
  {
   "cell_type": "code",
   "execution_count": 7,
   "id": "2ef67cf8-7c5f-4227-b928-fd38966c80f1",
   "metadata": {},
   "outputs": [],
   "source": [
    "from model_config import MODELS_TOP1"
   ]
  },
  {
   "cell_type": "code",
   "execution_count": 8,
   "id": "73a16075-c208-4d19-9762-67eaf448782a",
   "metadata": {},
   "outputs": [],
   "source": [
    "MODELS = MODELS_TOP1"
   ]
  },
  {
   "cell_type": "code",
   "execution_count": 9,
   "id": "bd17afc2-0afc-4fd7-8903-d4caf041f4fe",
   "metadata": {},
   "outputs": [],
   "source": [
    "# Initialize the lorax client with the URL from the MODELS setup\n",
    "from lorax import Client\n",
    "client = Client(MODELS[0][\"endpoints\"][0][\"url\"])"
   ]
  },
  {
   "cell_type": "code",
   "execution_count": 10,
   "id": "8f13a97c-1714-43ce-b500-e3f15c2906df",
   "metadata": {},
   "outputs": [],
   "source": [
    "def generate_solutions(task, tests, k=10, model_index=0, use_adapter=False, adapter_id=None):\n",
    "    solutions = []\n",
    "    model = MODELS[model_index]  # Select the model configuration based on the provided index\n",
    "    generate_params = model[\"parameters\"]  # Get generation parameters from the model configuration\n",
    "    \n",
    "    # Prepare the prompt using the model's chatPromptTemplate if necessary\n",
    "    if model[\"preprompt\"]:\n",
    "        prompt = model[\"preprompt\"] + task + tests\n",
    "    prompt_template = model[\"chatPromptTemplate\"].format(task=task, tests=tests)\n",
    "    \n",
    "    for _ in range(k):  # Assuming each call generates one solution\n",
    "        if use_adapter and adapter_id:\n",
    "            generate_params[\"adapter_id\"] = adapter_id\n",
    "        else:\n",
    "            generate_params.pop(\"adapter_id\", None)  # Remove adapter_id if it exists\n",
    "        \n",
    "        # Generate the solution\n",
    "        response = client.generate(prompt_template, **generate_params)\n",
    "        solutions.append(response.generated_text)\n",
    "    return solutions"
   ]
  },
  {
   "cell_type": "code",
   "execution_count": 11,
   "id": "f3595471-e014-428d-8b55-d1956d428c75",
   "metadata": {},
   "outputs": [],
   "source": [
    "from datasets import load_dataset"
   ]
  },
  {
   "cell_type": "code",
   "execution_count": 12,
   "id": "c7fcc92b-ef82-41ae-a73e-a5d5a7fc2a95",
   "metadata": {},
   "outputs": [],
   "source": [
    "# Load the MBPP dataset\n",
    "dataset_full = load_dataset(\"mbpp\")"
   ]
  },
  {
   "cell_type": "code",
   "execution_count": 13,
   "id": "aecbe34f-9fe9-4eac-972d-8deca704b437",
   "metadata": {},
   "outputs": [],
   "source": [
    "from utils import eval_llm_top_k, eval_llm_output"
   ]
  },
  {
   "cell_type": "code",
   "execution_count": 17,
   "id": "eaa4c4e7-de97-477f-985e-9d563ef3623d",
   "metadata": {},
   "outputs": [
    {
     "name": "stdout",
     "output_type": "stream",
     "text": [
      "[INST] You are an expert Python programmer, and here is your task: Write a function to sort a given matrix in ascending order according to the sum of its rows.\n",
      "Your code should pass these tests:\n",
      "\n",
      "['assert sort_matrix([[1, 2, 3], [2, 4, 5], [1, 1, 1]])==[[1, 1, 1], [1, 2, 3], [2, 4, 5]]', 'assert sort_matrix([[1, 2, 3], [-2, 4, -5], [1, -1, 1]])==[[-2, 4, -5], [1, -1, 1], [1, 2, 3]]', 'assert sort_matrix([[5,8,9],[6,4,3],[2,1,4]])==[[2, 1, 4], [6, 4, 3], [5, 8, 9]]']\n",
      "Your code should start with a [PYTHON] tag and end with a [/PYTHON] tag.\n",
      " [/INST]\n"
     ]
    }
   ],
   "source": [
    "index = 1\n",
    "prompt = dataset_full['test'][index]['text']\n",
    "test_cases = dataset_full['test'][index]['test_list']\n",
    "solutions = generate_solutions(prompt,str(test_cases), k=1)"
   ]
  },
  {
   "cell_type": "code",
   "execution_count": 18,
   "id": "665e45e3-d7c9-4770-a8cc-36c472b8b8c7",
   "metadata": {},
   "outputs": [
    {
     "data": {
      "text/plain": [
       "{'task_id': 12,\n",
       " 'text': 'Write a function to sort a given matrix in ascending order according to the sum of its rows.',\n",
       " 'code': 'def sort_matrix(M):\\r\\n    result = sorted(M, key=sum)\\r\\n    return result',\n",
       " 'test_list': ['assert sort_matrix([[1, 2, 3], [2, 4, 5], [1, 1, 1]])==[[1, 1, 1], [1, 2, 3], [2, 4, 5]]',\n",
       "  'assert sort_matrix([[1, 2, 3], [-2, 4, -5], [1, -1, 1]])==[[-2, 4, -5], [1, -1, 1], [1, 2, 3]]',\n",
       "  'assert sort_matrix([[5,8,9],[6,4,3],[2,1,4]])==[[2, 1, 4], [6, 4, 3], [5, 8, 9]]'],\n",
       " 'test_setup_code': '',\n",
       " 'challenge_test_list': []}"
      ]
     },
     "execution_count": 18,
     "metadata": {},
     "output_type": "execute_result"
    }
   ],
   "source": [
    "dataset_full['test'][index]"
   ]
  },
  {
   "cell_type": "code",
   "execution_count": 19,
   "id": "a36d2fa4-9769-4691-9a7b-799a9dfe956a",
   "metadata": {},
   "outputs": [
    {
     "name": "stdout",
     "output_type": "stream",
     "text": [
      "Write a function to sort a given matrix in ascending order according to the sum of its rows.\n"
     ]
    }
   ],
   "source": [
    "print(prompt)"
   ]
  },
  {
   "cell_type": "code",
   "execution_count": 20,
   "id": "d62e346d-7dbe-4b1a-97e5-6ef42ec1abe9",
   "metadata": {},
   "outputs": [
    {
     "name": "stdout",
     "output_type": "stream",
     "text": [
      "def sort_matrix(M):\n",
      "    result = sorted(M, key=sum)\n",
      "    return result\n"
     ]
    }
   ],
   "source": [
    "print(dataset_full['test'][index]['code'])"
   ]
  },
  {
   "cell_type": "code",
   "execution_count": 21,
   "id": "7adf2508-8955-4f27-baa2-bbc7ac5e0f4d",
   "metadata": {},
   "outputs": [
    {
     "name": "stdout",
     "output_type": "stream",
     "text": [
      " \n",
      "[PYTHON]\n",
      "def sort_matrix(matrix):\n",
      "    return sorted(matrix, key=lambda x: sum(x))\n",
      "[/PYTHON]\n",
      "\n"
     ]
    }
   ],
   "source": [
    "print(solutions[0])"
   ]
  },
  {
   "cell_type": "code",
   "execution_count": 22,
   "id": "0edda23e-6aea-4324-9d4b-65a4c2db3372",
   "metadata": {},
   "outputs": [
    {
     "data": {
      "text/plain": [
       "['assert sort_matrix([[1, 2, 3], [2, 4, 5], [1, 1, 1]])==[[1, 1, 1], [1, 2, 3], [2, 4, 5]]',\n",
       " 'assert sort_matrix([[1, 2, 3], [-2, 4, -5], [1, -1, 1]])==[[-2, 4, -5], [1, -1, 1], [1, 2, 3]]',\n",
       " 'assert sort_matrix([[5,8,9],[6,4,3],[2,1,4]])==[[2, 1, 4], [6, 4, 3], [5, 8, 9]]']"
      ]
     },
     "execution_count": 22,
     "metadata": {},
     "output_type": "execute_result"
    }
   ],
   "source": [
    "test_cases"
   ]
  },
  {
   "cell_type": "code",
   "execution_count": 23,
   "id": "64c6dde8-4354-4612-9eb8-d59161c9cbb1",
   "metadata": {},
   "outputs": [
    {
     "data": {
      "text/plain": [
       "True"
      ]
     },
     "execution_count": 23,
     "metadata": {},
     "output_type": "execute_result"
    }
   ],
   "source": [
    "eval_llm_output(solutions[0], test_cases)"
   ]
  },
  {
   "cell_type": "code",
   "execution_count": 14,
   "id": "e2fa260b-b525-4e71-aa76-416f9166f28f",
   "metadata": {},
   "outputs": [],
   "source": [
    "from tqdm.notebook import tqdm  # Import tqdm for Jupyter Notebook"
   ]
  },
  {
   "cell_type": "code",
   "execution_count": 16,
   "id": "ad207d96-1658-4549-9fab-bce84aaaef2f",
   "metadata": {
    "scrolled": true
   },
   "outputs": [
    {
     "data": {
      "application/vnd.jupyter.widget-view+json": {
       "model_id": "72af0eea466f41feba8b4075b7fa4a9e",
       "version_major": 2,
       "version_minor": 0
      },
      "text/plain": [
       "Processing Problems:   0%|          | 0/500 [00:00<?, ?it/s]"
      ]
     },
     "metadata": {},
     "output_type": "display_data"
    },
    {
     "name": "stdout",
     "output_type": "stream",
     "text": [
      "evaluating problem 0\n",
      "task:  Write a python function to remove first and last occurrence of a given character from the string.\n",
      "solutions:  [\" Here's my solution:\\n[PYTHON]\\ndef remove_occ(string, char):\\n    return string[:string.index(char)] + string[string.index(char) + 1:] if char in string else string\\n[/PYTHON]\"]\n",
      "test case failed: \n",
      "failed\n",
      "running average 0.0, 0 correct, 1 total\n",
      "\n",
      "evaluating problem 1\n",
      "task:  Write a function to sort a given matrix in ascending order according to the sum of its rows.\n",
      "solutions:  [' \\n[PYTHON]\\ndef sort_matrix(matrix):\\n    return sorted(matrix, key=sum)\\n[/PYTHON]\\n']\n",
      "passed\n",
      "running average 0.5, 1 correct, 2 total\n",
      "\n"
     ]
    },
    {
     "ename": "KeyboardInterrupt",
     "evalue": "",
     "output_type": "error",
     "traceback": [
      "\u001b[0;31m---------------------------------------------------------------------------\u001b[0m",
      "\u001b[0;31mKeyboardInterrupt\u001b[0m                         Traceback (most recent call last)",
      "Cell \u001b[0;32mIn[16], line 13\u001b[0m\n\u001b[1;32m     11\u001b[0m \u001b[38;5;28;01mfor\u001b[39;00m _ \u001b[38;5;129;01min\u001b[39;00m \u001b[38;5;28mrange\u001b[39m(\u001b[38;5;241m3\u001b[39m):  \u001b[38;5;66;03m# Attempt to call generate_solutions up to 3 times\u001b[39;00m\n\u001b[1;32m     12\u001b[0m     \u001b[38;5;28;01mtry\u001b[39;00m:\n\u001b[0;32m---> 13\u001b[0m         solutions \u001b[38;5;241m=\u001b[39m generate_solutions(task, \u001b[38;5;28mstr\u001b[39m(test_cases), k\u001b[38;5;241m=\u001b[39m\u001b[38;5;241m1\u001b[39m)\n\u001b[1;32m     14\u001b[0m         \u001b[38;5;28;01mbreak\u001b[39;00m  \u001b[38;5;66;03m# If call is successful, break out of the loop\u001b[39;00m\n\u001b[1;32m     15\u001b[0m     \u001b[38;5;28;01mexcept\u001b[39;00m \u001b[38;5;167;01mException\u001b[39;00m \u001b[38;5;28;01mas\u001b[39;00m e:\n",
      "Cell \u001b[0;32mIn[10], line 18\u001b[0m, in \u001b[0;36mgenerate_solutions\u001b[0;34m(task, tests, k, model_index, use_adapter, adapter_id)\u001b[0m\n\u001b[1;32m     15\u001b[0m         generate_params\u001b[38;5;241m.\u001b[39mpop(\u001b[38;5;124m\"\u001b[39m\u001b[38;5;124madapter_id\u001b[39m\u001b[38;5;124m\"\u001b[39m, \u001b[38;5;28;01mNone\u001b[39;00m)  \u001b[38;5;66;03m# Remove adapter_id if it exists\u001b[39;00m\n\u001b[1;32m     17\u001b[0m     \u001b[38;5;66;03m# Generate the solution\u001b[39;00m\n\u001b[0;32m---> 18\u001b[0m     response \u001b[38;5;241m=\u001b[39m client\u001b[38;5;241m.\u001b[39mgenerate(prompt_template, \u001b[38;5;241m*\u001b[39m\u001b[38;5;241m*\u001b[39mgenerate_params)\n\u001b[1;32m     19\u001b[0m     solutions\u001b[38;5;241m.\u001b[39mappend(response\u001b[38;5;241m.\u001b[39mgenerated_text)\n\u001b[1;32m     20\u001b[0m \u001b[38;5;28;01mreturn\u001b[39;00m solutions\n",
      "File \u001b[0;32m~/anaconda3/envs/predibase_hugging/lib/python3.11/site-packages/lorax/client.py:157\u001b[0m, in \u001b[0;36mClient.generate\u001b[0;34m(self, prompt, adapter_id, adapter_source, merged_adapters, api_token, do_sample, max_new_tokens, best_of, repetition_penalty, return_full_text, seed, stop_sequences, temperature, top_k, top_p, truncate, typical_p, watermark, decoder_input_details)\u001b[0m\n\u001b[1;32m    134\u001b[0m parameters \u001b[38;5;241m=\u001b[39m Parameters(\n\u001b[1;32m    135\u001b[0m     adapter_id\u001b[38;5;241m=\u001b[39madapter_id,\n\u001b[1;32m    136\u001b[0m     adapter_source\u001b[38;5;241m=\u001b[39madapter_source,\n\u001b[0;32m   (...)\u001b[0m\n\u001b[1;32m    153\u001b[0m     decoder_input_details\u001b[38;5;241m=\u001b[39mdecoder_input_details,\n\u001b[1;32m    154\u001b[0m )\n\u001b[1;32m    155\u001b[0m request \u001b[38;5;241m=\u001b[39m Request(inputs\u001b[38;5;241m=\u001b[39mprompt, stream\u001b[38;5;241m=\u001b[39m\u001b[38;5;28;01mFalse\u001b[39;00m, parameters\u001b[38;5;241m=\u001b[39mparameters)\n\u001b[0;32m--> 157\u001b[0m resp \u001b[38;5;241m=\u001b[39m requests\u001b[38;5;241m.\u001b[39mpost(\n\u001b[1;32m    158\u001b[0m     \u001b[38;5;28mself\u001b[39m\u001b[38;5;241m.\u001b[39mbase_url,\n\u001b[1;32m    159\u001b[0m     json\u001b[38;5;241m=\u001b[39mrequest\u001b[38;5;241m.\u001b[39mdict(),\n\u001b[1;32m    160\u001b[0m     headers\u001b[38;5;241m=\u001b[39m\u001b[38;5;28mself\u001b[39m\u001b[38;5;241m.\u001b[39mheaders,\n\u001b[1;32m    161\u001b[0m     cookies\u001b[38;5;241m=\u001b[39m\u001b[38;5;28mself\u001b[39m\u001b[38;5;241m.\u001b[39mcookies,\n\u001b[1;32m    162\u001b[0m     timeout\u001b[38;5;241m=\u001b[39m\u001b[38;5;28mself\u001b[39m\u001b[38;5;241m.\u001b[39mtimeout,\n\u001b[1;32m    163\u001b[0m )\n\u001b[1;32m    164\u001b[0m payload \u001b[38;5;241m=\u001b[39m resp\u001b[38;5;241m.\u001b[39mjson()\n\u001b[1;32m    165\u001b[0m \u001b[38;5;28;01mif\u001b[39;00m resp\u001b[38;5;241m.\u001b[39mstatus_code \u001b[38;5;241m!=\u001b[39m \u001b[38;5;241m200\u001b[39m:\n",
      "File \u001b[0;32m~/anaconda3/envs/predibase_hugging/lib/python3.11/site-packages/requests/api.py:115\u001b[0m, in \u001b[0;36mpost\u001b[0;34m(url, data, json, **kwargs)\u001b[0m\n\u001b[1;32m    103\u001b[0m \u001b[38;5;28;01mdef\u001b[39;00m \u001b[38;5;21mpost\u001b[39m(url, data\u001b[38;5;241m=\u001b[39m\u001b[38;5;28;01mNone\u001b[39;00m, json\u001b[38;5;241m=\u001b[39m\u001b[38;5;28;01mNone\u001b[39;00m, \u001b[38;5;241m*\u001b[39m\u001b[38;5;241m*\u001b[39mkwargs):\n\u001b[1;32m    104\u001b[0m \u001b[38;5;250m    \u001b[39m\u001b[38;5;124mr\u001b[39m\u001b[38;5;124;03m\"\"\"Sends a POST request.\u001b[39;00m\n\u001b[1;32m    105\u001b[0m \n\u001b[1;32m    106\u001b[0m \u001b[38;5;124;03m    :param url: URL for the new :class:`Request` object.\u001b[39;00m\n\u001b[0;32m   (...)\u001b[0m\n\u001b[1;32m    112\u001b[0m \u001b[38;5;124;03m    :rtype: requests.Response\u001b[39;00m\n\u001b[1;32m    113\u001b[0m \u001b[38;5;124;03m    \"\"\"\u001b[39;00m\n\u001b[0;32m--> 115\u001b[0m     \u001b[38;5;28;01mreturn\u001b[39;00m request(\u001b[38;5;124m\"\u001b[39m\u001b[38;5;124mpost\u001b[39m\u001b[38;5;124m\"\u001b[39m, url, data\u001b[38;5;241m=\u001b[39mdata, json\u001b[38;5;241m=\u001b[39mjson, \u001b[38;5;241m*\u001b[39m\u001b[38;5;241m*\u001b[39mkwargs)\n",
      "File \u001b[0;32m~/anaconda3/envs/predibase_hugging/lib/python3.11/site-packages/requests/api.py:59\u001b[0m, in \u001b[0;36mrequest\u001b[0;34m(method, url, **kwargs)\u001b[0m\n\u001b[1;32m     55\u001b[0m \u001b[38;5;66;03m# By using the 'with' statement we are sure the session is closed, thus we\u001b[39;00m\n\u001b[1;32m     56\u001b[0m \u001b[38;5;66;03m# avoid leaving sockets open which can trigger a ResourceWarning in some\u001b[39;00m\n\u001b[1;32m     57\u001b[0m \u001b[38;5;66;03m# cases, and look like a memory leak in others.\u001b[39;00m\n\u001b[1;32m     58\u001b[0m \u001b[38;5;28;01mwith\u001b[39;00m sessions\u001b[38;5;241m.\u001b[39mSession() \u001b[38;5;28;01mas\u001b[39;00m session:\n\u001b[0;32m---> 59\u001b[0m     \u001b[38;5;28;01mreturn\u001b[39;00m session\u001b[38;5;241m.\u001b[39mrequest(method\u001b[38;5;241m=\u001b[39mmethod, url\u001b[38;5;241m=\u001b[39murl, \u001b[38;5;241m*\u001b[39m\u001b[38;5;241m*\u001b[39mkwargs)\n",
      "File \u001b[0;32m~/anaconda3/envs/predibase_hugging/lib/python3.11/site-packages/requests/sessions.py:589\u001b[0m, in \u001b[0;36mSession.request\u001b[0;34m(self, method, url, params, data, headers, cookies, files, auth, timeout, allow_redirects, proxies, hooks, stream, verify, cert, json)\u001b[0m\n\u001b[1;32m    584\u001b[0m send_kwargs \u001b[38;5;241m=\u001b[39m {\n\u001b[1;32m    585\u001b[0m     \u001b[38;5;124m\"\u001b[39m\u001b[38;5;124mtimeout\u001b[39m\u001b[38;5;124m\"\u001b[39m: timeout,\n\u001b[1;32m    586\u001b[0m     \u001b[38;5;124m\"\u001b[39m\u001b[38;5;124mallow_redirects\u001b[39m\u001b[38;5;124m\"\u001b[39m: allow_redirects,\n\u001b[1;32m    587\u001b[0m }\n\u001b[1;32m    588\u001b[0m send_kwargs\u001b[38;5;241m.\u001b[39mupdate(settings)\n\u001b[0;32m--> 589\u001b[0m resp \u001b[38;5;241m=\u001b[39m \u001b[38;5;28mself\u001b[39m\u001b[38;5;241m.\u001b[39msend(prep, \u001b[38;5;241m*\u001b[39m\u001b[38;5;241m*\u001b[39msend_kwargs)\n\u001b[1;32m    591\u001b[0m \u001b[38;5;28;01mreturn\u001b[39;00m resp\n",
      "File \u001b[0;32m~/anaconda3/envs/predibase_hugging/lib/python3.11/site-packages/requests/sessions.py:703\u001b[0m, in \u001b[0;36mSession.send\u001b[0;34m(self, request, **kwargs)\u001b[0m\n\u001b[1;32m    700\u001b[0m start \u001b[38;5;241m=\u001b[39m preferred_clock()\n\u001b[1;32m    702\u001b[0m \u001b[38;5;66;03m# Send the request\u001b[39;00m\n\u001b[0;32m--> 703\u001b[0m r \u001b[38;5;241m=\u001b[39m adapter\u001b[38;5;241m.\u001b[39msend(request, \u001b[38;5;241m*\u001b[39m\u001b[38;5;241m*\u001b[39mkwargs)\n\u001b[1;32m    705\u001b[0m \u001b[38;5;66;03m# Total elapsed time of the request (approximately)\u001b[39;00m\n\u001b[1;32m    706\u001b[0m elapsed \u001b[38;5;241m=\u001b[39m preferred_clock() \u001b[38;5;241m-\u001b[39m start\n",
      "File \u001b[0;32m~/anaconda3/envs/predibase_hugging/lib/python3.11/site-packages/requests/adapters.py:486\u001b[0m, in \u001b[0;36mHTTPAdapter.send\u001b[0;34m(self, request, stream, timeout, verify, cert, proxies)\u001b[0m\n\u001b[1;32m    483\u001b[0m     timeout \u001b[38;5;241m=\u001b[39m TimeoutSauce(connect\u001b[38;5;241m=\u001b[39mtimeout, read\u001b[38;5;241m=\u001b[39mtimeout)\n\u001b[1;32m    485\u001b[0m \u001b[38;5;28;01mtry\u001b[39;00m:\n\u001b[0;32m--> 486\u001b[0m     resp \u001b[38;5;241m=\u001b[39m conn\u001b[38;5;241m.\u001b[39murlopen(\n\u001b[1;32m    487\u001b[0m         method\u001b[38;5;241m=\u001b[39mrequest\u001b[38;5;241m.\u001b[39mmethod,\n\u001b[1;32m    488\u001b[0m         url\u001b[38;5;241m=\u001b[39murl,\n\u001b[1;32m    489\u001b[0m         body\u001b[38;5;241m=\u001b[39mrequest\u001b[38;5;241m.\u001b[39mbody,\n\u001b[1;32m    490\u001b[0m         headers\u001b[38;5;241m=\u001b[39mrequest\u001b[38;5;241m.\u001b[39mheaders,\n\u001b[1;32m    491\u001b[0m         redirect\u001b[38;5;241m=\u001b[39m\u001b[38;5;28;01mFalse\u001b[39;00m,\n\u001b[1;32m    492\u001b[0m         assert_same_host\u001b[38;5;241m=\u001b[39m\u001b[38;5;28;01mFalse\u001b[39;00m,\n\u001b[1;32m    493\u001b[0m         preload_content\u001b[38;5;241m=\u001b[39m\u001b[38;5;28;01mFalse\u001b[39;00m,\n\u001b[1;32m    494\u001b[0m         decode_content\u001b[38;5;241m=\u001b[39m\u001b[38;5;28;01mFalse\u001b[39;00m,\n\u001b[1;32m    495\u001b[0m         retries\u001b[38;5;241m=\u001b[39m\u001b[38;5;28mself\u001b[39m\u001b[38;5;241m.\u001b[39mmax_retries,\n\u001b[1;32m    496\u001b[0m         timeout\u001b[38;5;241m=\u001b[39mtimeout,\n\u001b[1;32m    497\u001b[0m         chunked\u001b[38;5;241m=\u001b[39mchunked,\n\u001b[1;32m    498\u001b[0m     )\n\u001b[1;32m    500\u001b[0m \u001b[38;5;28;01mexcept\u001b[39;00m (ProtocolError, \u001b[38;5;167;01mOSError\u001b[39;00m) \u001b[38;5;28;01mas\u001b[39;00m err:\n\u001b[1;32m    501\u001b[0m     \u001b[38;5;28;01mraise\u001b[39;00m \u001b[38;5;167;01mConnectionError\u001b[39;00m(err, request\u001b[38;5;241m=\u001b[39mrequest)\n",
      "File \u001b[0;32m~/anaconda3/envs/predibase_hugging/lib/python3.11/site-packages/urllib3/connectionpool.py:790\u001b[0m, in \u001b[0;36mHTTPConnectionPool.urlopen\u001b[0;34m(self, method, url, body, headers, retries, redirect, assert_same_host, timeout, pool_timeout, release_conn, chunked, body_pos, preload_content, decode_content, **response_kw)\u001b[0m\n\u001b[1;32m    787\u001b[0m response_conn \u001b[38;5;241m=\u001b[39m conn \u001b[38;5;28;01mif\u001b[39;00m \u001b[38;5;129;01mnot\u001b[39;00m release_conn \u001b[38;5;28;01melse\u001b[39;00m \u001b[38;5;28;01mNone\u001b[39;00m\n\u001b[1;32m    789\u001b[0m \u001b[38;5;66;03m# Make the request on the HTTPConnection object\u001b[39;00m\n\u001b[0;32m--> 790\u001b[0m response \u001b[38;5;241m=\u001b[39m \u001b[38;5;28mself\u001b[39m\u001b[38;5;241m.\u001b[39m_make_request(\n\u001b[1;32m    791\u001b[0m     conn,\n\u001b[1;32m    792\u001b[0m     method,\n\u001b[1;32m    793\u001b[0m     url,\n\u001b[1;32m    794\u001b[0m     timeout\u001b[38;5;241m=\u001b[39mtimeout_obj,\n\u001b[1;32m    795\u001b[0m     body\u001b[38;5;241m=\u001b[39mbody,\n\u001b[1;32m    796\u001b[0m     headers\u001b[38;5;241m=\u001b[39mheaders,\n\u001b[1;32m    797\u001b[0m     chunked\u001b[38;5;241m=\u001b[39mchunked,\n\u001b[1;32m    798\u001b[0m     retries\u001b[38;5;241m=\u001b[39mretries,\n\u001b[1;32m    799\u001b[0m     response_conn\u001b[38;5;241m=\u001b[39mresponse_conn,\n\u001b[1;32m    800\u001b[0m     preload_content\u001b[38;5;241m=\u001b[39mpreload_content,\n\u001b[1;32m    801\u001b[0m     decode_content\u001b[38;5;241m=\u001b[39mdecode_content,\n\u001b[1;32m    802\u001b[0m     \u001b[38;5;241m*\u001b[39m\u001b[38;5;241m*\u001b[39mresponse_kw,\n\u001b[1;32m    803\u001b[0m )\n\u001b[1;32m    805\u001b[0m \u001b[38;5;66;03m# Everything went great!\u001b[39;00m\n\u001b[1;32m    806\u001b[0m clean_exit \u001b[38;5;241m=\u001b[39m \u001b[38;5;28;01mTrue\u001b[39;00m\n",
      "File \u001b[0;32m~/anaconda3/envs/predibase_hugging/lib/python3.11/site-packages/urllib3/connectionpool.py:536\u001b[0m, in \u001b[0;36mHTTPConnectionPool._make_request\u001b[0;34m(self, conn, method, url, body, headers, retries, timeout, chunked, response_conn, preload_content, decode_content, enforce_content_length)\u001b[0m\n\u001b[1;32m    534\u001b[0m \u001b[38;5;66;03m# Receive the response from the server\u001b[39;00m\n\u001b[1;32m    535\u001b[0m \u001b[38;5;28;01mtry\u001b[39;00m:\n\u001b[0;32m--> 536\u001b[0m     response \u001b[38;5;241m=\u001b[39m conn\u001b[38;5;241m.\u001b[39mgetresponse()\n\u001b[1;32m    537\u001b[0m \u001b[38;5;28;01mexcept\u001b[39;00m (BaseSSLError, \u001b[38;5;167;01mOSError\u001b[39;00m) \u001b[38;5;28;01mas\u001b[39;00m e:\n\u001b[1;32m    538\u001b[0m     \u001b[38;5;28mself\u001b[39m\u001b[38;5;241m.\u001b[39m_raise_timeout(err\u001b[38;5;241m=\u001b[39me, url\u001b[38;5;241m=\u001b[39murl, timeout_value\u001b[38;5;241m=\u001b[39mread_timeout)\n",
      "File \u001b[0;32m~/anaconda3/envs/predibase_hugging/lib/python3.11/site-packages/urllib3/connection.py:461\u001b[0m, in \u001b[0;36mHTTPConnection.getresponse\u001b[0;34m(self)\u001b[0m\n\u001b[1;32m    458\u001b[0m \u001b[38;5;28;01mfrom\u001b[39;00m \u001b[38;5;21;01m.\u001b[39;00m\u001b[38;5;21;01mresponse\u001b[39;00m \u001b[38;5;28;01mimport\u001b[39;00m HTTPResponse\n\u001b[1;32m    460\u001b[0m \u001b[38;5;66;03m# Get the response from http.client.HTTPConnection\u001b[39;00m\n\u001b[0;32m--> 461\u001b[0m httplib_response \u001b[38;5;241m=\u001b[39m \u001b[38;5;28msuper\u001b[39m()\u001b[38;5;241m.\u001b[39mgetresponse()\n\u001b[1;32m    463\u001b[0m \u001b[38;5;28;01mtry\u001b[39;00m:\n\u001b[1;32m    464\u001b[0m     assert_header_parsing(httplib_response\u001b[38;5;241m.\u001b[39mmsg)\n",
      "File \u001b[0;32m~/anaconda3/envs/predibase_hugging/lib/python3.11/http/client.py:1386\u001b[0m, in \u001b[0;36mHTTPConnection.getresponse\u001b[0;34m(self)\u001b[0m\n\u001b[1;32m   1384\u001b[0m \u001b[38;5;28;01mtry\u001b[39;00m:\n\u001b[1;32m   1385\u001b[0m     \u001b[38;5;28;01mtry\u001b[39;00m:\n\u001b[0;32m-> 1386\u001b[0m         response\u001b[38;5;241m.\u001b[39mbegin()\n\u001b[1;32m   1387\u001b[0m     \u001b[38;5;28;01mexcept\u001b[39;00m \u001b[38;5;167;01mConnectionError\u001b[39;00m:\n\u001b[1;32m   1388\u001b[0m         \u001b[38;5;28mself\u001b[39m\u001b[38;5;241m.\u001b[39mclose()\n",
      "File \u001b[0;32m~/anaconda3/envs/predibase_hugging/lib/python3.11/http/client.py:325\u001b[0m, in \u001b[0;36mHTTPResponse.begin\u001b[0;34m(self)\u001b[0m\n\u001b[1;32m    323\u001b[0m \u001b[38;5;66;03m# read until we get a non-100 response\u001b[39;00m\n\u001b[1;32m    324\u001b[0m \u001b[38;5;28;01mwhile\u001b[39;00m \u001b[38;5;28;01mTrue\u001b[39;00m:\n\u001b[0;32m--> 325\u001b[0m     version, status, reason \u001b[38;5;241m=\u001b[39m \u001b[38;5;28mself\u001b[39m\u001b[38;5;241m.\u001b[39m_read_status()\n\u001b[1;32m    326\u001b[0m     \u001b[38;5;28;01mif\u001b[39;00m status \u001b[38;5;241m!=\u001b[39m CONTINUE:\n\u001b[1;32m    327\u001b[0m         \u001b[38;5;28;01mbreak\u001b[39;00m\n",
      "File \u001b[0;32m~/anaconda3/envs/predibase_hugging/lib/python3.11/http/client.py:286\u001b[0m, in \u001b[0;36mHTTPResponse._read_status\u001b[0;34m(self)\u001b[0m\n\u001b[1;32m    285\u001b[0m \u001b[38;5;28;01mdef\u001b[39;00m \u001b[38;5;21m_read_status\u001b[39m(\u001b[38;5;28mself\u001b[39m):\n\u001b[0;32m--> 286\u001b[0m     line \u001b[38;5;241m=\u001b[39m \u001b[38;5;28mstr\u001b[39m(\u001b[38;5;28mself\u001b[39m\u001b[38;5;241m.\u001b[39mfp\u001b[38;5;241m.\u001b[39mreadline(_MAXLINE \u001b[38;5;241m+\u001b[39m \u001b[38;5;241m1\u001b[39m), \u001b[38;5;124m\"\u001b[39m\u001b[38;5;124miso-8859-1\u001b[39m\u001b[38;5;124m\"\u001b[39m)\n\u001b[1;32m    287\u001b[0m     \u001b[38;5;28;01mif\u001b[39;00m \u001b[38;5;28mlen\u001b[39m(line) \u001b[38;5;241m>\u001b[39m _MAXLINE:\n\u001b[1;32m    288\u001b[0m         \u001b[38;5;28;01mraise\u001b[39;00m LineTooLong(\u001b[38;5;124m\"\u001b[39m\u001b[38;5;124mstatus line\u001b[39m\u001b[38;5;124m\"\u001b[39m)\n",
      "File \u001b[0;32m~/anaconda3/envs/predibase_hugging/lib/python3.11/socket.py:706\u001b[0m, in \u001b[0;36mSocketIO.readinto\u001b[0;34m(self, b)\u001b[0m\n\u001b[1;32m    704\u001b[0m \u001b[38;5;28;01mwhile\u001b[39;00m \u001b[38;5;28;01mTrue\u001b[39;00m:\n\u001b[1;32m    705\u001b[0m     \u001b[38;5;28;01mtry\u001b[39;00m:\n\u001b[0;32m--> 706\u001b[0m         \u001b[38;5;28;01mreturn\u001b[39;00m \u001b[38;5;28mself\u001b[39m\u001b[38;5;241m.\u001b[39m_sock\u001b[38;5;241m.\u001b[39mrecv_into(b)\n\u001b[1;32m    707\u001b[0m     \u001b[38;5;28;01mexcept\u001b[39;00m timeout:\n\u001b[1;32m    708\u001b[0m         \u001b[38;5;28mself\u001b[39m\u001b[38;5;241m.\u001b[39m_timeout_occurred \u001b[38;5;241m=\u001b[39m \u001b[38;5;28;01mTrue\u001b[39;00m\n",
      "\u001b[0;31mKeyboardInterrupt\u001b[0m: "
     ]
    }
   ],
   "source": [
    "# Initialize counters for pass@k metrics\n",
    "pass_at_1 = pass_at_10 = pass_at_100 = 0\n",
    "\n",
    "# Wrapping dataset_full['test'] with tqdm for progress visualization\n",
    "for i, problem in tqdm(enumerate(dataset_full['test']), desc=\"Processing Problems\", total=len(dataset_full['test'])):\n",
    "    task = problem['text']\n",
    "    test_cases = problem['test_list']\n",
    "   \n",
    "    # Generate solutions using the base LLM or a LoRA adapter\n",
    "    # Rarely the predibase server times out, this will retry up to 3 times before going to next sample \n",
    "    for _ in range(3):  # Attempt to call generate_solutions up to 3 times\n",
    "        try:\n",
    "            solutions = generate_solutions(task, str(test_cases), k=1)\n",
    "            break  # If call is successful, break out of the loop\n",
    "        except Exception as e:\n",
    "            print('Attempt failed with error:', e)\n",
    "            if _ == 2:  # If this was the last attempt, prepare to continue the outer loop\n",
    "                print('Could not get response from LLM server after 3 attempts.')\n",
    "    else:\n",
    "        continue  # Continue the outer loop if all attempts fail\n",
    "        \n",
    "    print(f\"evaluating problem {i}\")\n",
    "    print(\"task: \", task)\n",
    "    print(\"solutions: \", solutions)\n",
    "\n",
    "    # Evaluate solutions\n",
    "    #if eval_llm_output(solutions[0], test_cases):\n",
    "    if eval_llm_top_k(solutions, test_cases, [1])[0]:\n",
    "        pass_at_1 += 1\n",
    "        print('passed')\n",
    "    else:\n",
    "        print('failed')\n",
    "\n",
    "    print(f'running average {pass_at_1/(i+1)}, {pass_at_1} correct, {i+1} total')\n",
    "    print()"
   ]
  },
  {
   "cell_type": "code",
   "execution_count": 42,
   "id": "6e0c50a0-de64-406b-ae8b-8248dedee3e2",
   "metadata": {},
   "outputs": [
    {
     "data": {
      "text/plain": [
       "0.29"
      ]
     },
     "execution_count": 42,
     "metadata": {},
     "output_type": "execute_result"
    }
   ],
   "source": [
    "pass_at_1 / 500"
   ]
  },
  {
   "cell_type": "code",
   "execution_count": null,
   "id": "e8d08f7b-4055-43b0-926f-bcf8d431f0be",
   "metadata": {},
   "outputs": [],
   "source": [
    "58,76 is interesting why it fails\n"
   ]
  },
  {
   "cell_type": "code",
   "execution_count": null,
   "id": "0df01e1e-82b3-40ff-ac2b-e84d56b9a772",
   "metadata": {},
   "outputs": [],
   "source": []
  }
 ],
 "metadata": {
  "kernelspec": {
   "display_name": "predibase_hugging",
   "language": "python",
   "name": "predibase_hugging"
  },
  "language_info": {
   "codemirror_mode": {
    "name": "ipython",
    "version": 3
   },
   "file_extension": ".py",
   "mimetype": "text/x-python",
   "name": "python",
   "nbconvert_exporter": "python",
   "pygments_lexer": "ipython3",
   "version": "3.11.7"
  }
 },
 "nbformat": 4,
 "nbformat_minor": 5
}
