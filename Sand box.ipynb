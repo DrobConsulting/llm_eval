{
 "cells": [
  {
   "cell_type": "markdown",
   "id": "4cdb1824-482e-4646-8ceb-d7cc0186d691",
   "metadata": {},
   "source": [
    "\"\"\"\n",
    "Author: Michael Drob\n",
    "Contact: https://www.linkedin.com/in/michael-drob/\n",
    "License: Apache 2.0\n",
    "\n",
    "This program is free software: you can redistribute it and/or modify\n",
    "it under the terms of the Apache License as published by\n",
    "the Free Software Foundation, either version 2 of the License, or\n",
    "(at your option) any later version.\n",
    "\n",
    "This program is distributed in the hope that it will be useful,\n",
    "but WITHOUT ANY WARRANTY; without even the implied warranty of\n",
    "MERCHANTABILITY or FITNESS FOR A PARTICULAR PURPOSE. See the\n",
    "Apache License for more details.\n",
    "\n",
    "You should have received a copy of the Apache License\n",
    "along with this program. If not, see <http://www.apache.org/licenses/LICENSE-2.0>.\n",
    "\"\"\""
   ]
  },
  {
   "cell_type": "code",
   "execution_count": 1,
   "id": "2ef67cf8-7c5f-4227-b928-fd38966c80f1",
   "metadata": {},
   "outputs": [],
   "source": [
    "from model_config import MODELS_TOP1"
   ]
  },
  {
   "cell_type": "code",
   "execution_count": 2,
   "id": "73a16075-c208-4d19-9762-67eaf448782a",
   "metadata": {},
   "outputs": [],
   "source": [
    "MODELS = MODELS_TOP1"
   ]
  },
  {
   "cell_type": "code",
   "execution_count": 3,
   "id": "bd17afc2-0afc-4fd7-8903-d4caf041f4fe",
   "metadata": {},
   "outputs": [],
   "source": [
    "# Initialize the lorax client with the URL from the MODELS setup\n",
    "from lorax import Client\n",
    "client = Client(MODELS[0][\"endpoints\"][0][\"url\"])"
   ]
  },
  {
   "cell_type": "code",
   "execution_count": 4,
   "id": "8f13a97c-1714-43ce-b500-e3f15c2906df",
   "metadata": {},
   "outputs": [],
   "source": [
    "def generate_solutions(task, tests, k=10, model_index=0, use_adapter=False, adapter_id=None):\n",
    "    solutions = []\n",
    "    model = MODELS[model_index]  # Select the model configuration based on the provided index\n",
    "    generate_params = model[\"parameters\"]  # Get generation parameters from the model configuration\n",
    "    \n",
    "    # Prepare the prompt using the model's chatPromptTemplate if necessary\n",
    "    if model[\"preprompt\"]:\n",
    "        prompt = model[\"preprompt\"] + task + tests\n",
    "    prompt_template = model[\"chatPromptTemplate\"].format(task=task, tests=tests)\n",
    "    \n",
    "    for _ in range(k):  # Assuming each call generates one solution\n",
    "        if use_adapter and adapter_id:\n",
    "            generate_params[\"adapter_id\"] = adapter_id\n",
    "        else:\n",
    "            generate_params.pop(\"adapter_id\", None)  # Remove adapter_id if it exists\n",
    "        \n",
    "        # Generate the solution\n",
    "        response = client.generate(prompt_template, **generate_params)\n",
    "        solutions.append(response.generated_text)\n",
    "    return solutions"
   ]
  },
  {
   "cell_type": "code",
   "execution_count": 5,
   "id": "f3595471-e014-428d-8b55-d1956d428c75",
   "metadata": {},
   "outputs": [],
   "source": [
    "from datasets import load_dataset"
   ]
  },
  {
   "cell_type": "code",
   "execution_count": 6,
   "id": "c7fcc92b-ef82-41ae-a73e-a5d5a7fc2a95",
   "metadata": {},
   "outputs": [],
   "source": [
    "# Load the MBPP dataset\n",
    "dataset_full = load_dataset(\"mbpp\")"
   ]
  },
  {
   "cell_type": "code",
   "execution_count": 7,
   "id": "aecbe34f-9fe9-4eac-972d-8deca704b437",
   "metadata": {},
   "outputs": [],
   "source": [
    "from utils import eval_llm_top_k, eval_llm_output"
   ]
  },
  {
   "cell_type": "code",
   "execution_count": 17,
   "id": "eaa4c4e7-de97-477f-985e-9d563ef3623d",
   "metadata": {},
   "outputs": [
    {
     "name": "stdout",
     "output_type": "stream",
     "text": [
      "[INST] You are an expert Python programmer, and here is your task: Write a function to sort a given matrix in ascending order according to the sum of its rows.\n",
      "Your code should pass these tests:\n",
      "\n",
      "['assert sort_matrix([[1, 2, 3], [2, 4, 5], [1, 1, 1]])==[[1, 1, 1], [1, 2, 3], [2, 4, 5]]', 'assert sort_matrix([[1, 2, 3], [-2, 4, -5], [1, -1, 1]])==[[-2, 4, -5], [1, -1, 1], [1, 2, 3]]', 'assert sort_matrix([[5,8,9],[6,4,3],[2,1,4]])==[[2, 1, 4], [6, 4, 3], [5, 8, 9]]']\n",
      "Your code should start with a [PYTHON] tag and end with a [/PYTHON] tag.\n",
      " [/INST]\n"
     ]
    }
   ],
   "source": [
    "index = 1\n",
    "prompt = dataset_full['test'][index]['text']\n",
    "test_cases = dataset_full['test'][index]['test_list']\n",
    "solutions = generate_solutions(prompt,str(test_cases), k=1)"
   ]
  },
  {
   "cell_type": "code",
   "execution_count": 18,
   "id": "665e45e3-d7c9-4770-a8cc-36c472b8b8c7",
   "metadata": {},
   "outputs": [
    {
     "data": {
      "text/plain": [
       "{'task_id': 12,\n",
       " 'text': 'Write a function to sort a given matrix in ascending order according to the sum of its rows.',\n",
       " 'code': 'def sort_matrix(M):\\r\\n    result = sorted(M, key=sum)\\r\\n    return result',\n",
       " 'test_list': ['assert sort_matrix([[1, 2, 3], [2, 4, 5], [1, 1, 1]])==[[1, 1, 1], [1, 2, 3], [2, 4, 5]]',\n",
       "  'assert sort_matrix([[1, 2, 3], [-2, 4, -5], [1, -1, 1]])==[[-2, 4, -5], [1, -1, 1], [1, 2, 3]]',\n",
       "  'assert sort_matrix([[5,8,9],[6,4,3],[2,1,4]])==[[2, 1, 4], [6, 4, 3], [5, 8, 9]]'],\n",
       " 'test_setup_code': '',\n",
       " 'challenge_test_list': []}"
      ]
     },
     "execution_count": 18,
     "metadata": {},
     "output_type": "execute_result"
    }
   ],
   "source": [
    "dataset_full['test'][index]"
   ]
  },
  {
   "cell_type": "code",
   "execution_count": 19,
   "id": "a36d2fa4-9769-4691-9a7b-799a9dfe956a",
   "metadata": {},
   "outputs": [
    {
     "name": "stdout",
     "output_type": "stream",
     "text": [
      "Write a function to sort a given matrix in ascending order according to the sum of its rows.\n"
     ]
    }
   ],
   "source": [
    "print(prompt)"
   ]
  },
  {
   "cell_type": "code",
   "execution_count": 20,
   "id": "d62e346d-7dbe-4b1a-97e5-6ef42ec1abe9",
   "metadata": {},
   "outputs": [
    {
     "name": "stdout",
     "output_type": "stream",
     "text": [
      "def sort_matrix(M):\n",
      "    result = sorted(M, key=sum)\n",
      "    return result\n"
     ]
    }
   ],
   "source": [
    "print(dataset_full['test'][index]['code'])"
   ]
  },
  {
   "cell_type": "code",
   "execution_count": 21,
   "id": "7adf2508-8955-4f27-baa2-bbc7ac5e0f4d",
   "metadata": {},
   "outputs": [
    {
     "name": "stdout",
     "output_type": "stream",
     "text": [
      " \n",
      "[PYTHON]\n",
      "def sort_matrix(matrix):\n",
      "    return sorted(matrix, key=lambda x: sum(x))\n",
      "[/PYTHON]\n",
      "\n"
     ]
    }
   ],
   "source": [
    "print(solutions[0])"
   ]
  },
  {
   "cell_type": "code",
   "execution_count": 22,
   "id": "0edda23e-6aea-4324-9d4b-65a4c2db3372",
   "metadata": {},
   "outputs": [
    {
     "data": {
      "text/plain": [
       "['assert sort_matrix([[1, 2, 3], [2, 4, 5], [1, 1, 1]])==[[1, 1, 1], [1, 2, 3], [2, 4, 5]]',\n",
       " 'assert sort_matrix([[1, 2, 3], [-2, 4, -5], [1, -1, 1]])==[[-2, 4, -5], [1, -1, 1], [1, 2, 3]]',\n",
       " 'assert sort_matrix([[5,8,9],[6,4,3],[2,1,4]])==[[2, 1, 4], [6, 4, 3], [5, 8, 9]]']"
      ]
     },
     "execution_count": 22,
     "metadata": {},
     "output_type": "execute_result"
    }
   ],
   "source": [
    "test_cases"
   ]
  },
  {
   "cell_type": "code",
   "execution_count": 23,
   "id": "64c6dde8-4354-4612-9eb8-d59161c9cbb1",
   "metadata": {},
   "outputs": [
    {
     "data": {
      "text/plain": [
       "True"
      ]
     },
     "execution_count": 23,
     "metadata": {},
     "output_type": "execute_result"
    }
   ],
   "source": [
    "eval_llm_output(solutions[0], test_cases)"
   ]
  },
  {
   "cell_type": "code",
   "execution_count": null,
   "id": "ad207d96-1658-4549-9fab-bce84aaaef2f",
   "metadata": {
    "scrolled": true
   },
   "outputs": [
    {
     "name": "stdout",
     "output_type": "stream",
     "text": [
      "evaluating problem 0\n",
      "task:  Write a python function to remove first and last occurrence of a given character from the string.\n",
      "solutions:  [' [PYTHON]\\ndef remove_occ(string, char):\\n    return string[:string.index(char)] + string[string.index(char) + 1:]\\n[/PYTHON]']\n",
      "test case failed: \n",
      "failed\n",
      "running average 0.0, 0 correct, 1 total\n",
      "\n",
      "evaluating problem 1\n",
      "task:  Write a function to sort a given matrix in ascending order according to the sum of its rows.\n",
      "solutions:  [' \\n[PYTHON]\\ndef sort_matrix(matrix):\\n    return sorted(matrix, key=lambda x: sum(x))\\n[/PYTHON]\\n']\n",
      "passed\n",
      "running average 0.5, 1 correct, 2 total\n",
      "\n",
      "evaluating problem 2\n",
      "task:  Write a function to count the most common words in a dictionary.\n",
      "solutions:  [' [PYTHON]\\ndef count_common(my_list):\\n    # Create a dictionary to store the counts\\n    word_counts = {}\\n\\n    # Iterate through the list and increment the count for each word\\n    for word in my_list:\\n        if word in word_counts:\\n            word_counts[word] += 1\\n        else:\\n            word_counts[word] = 1\\n\\n    # Sort the dictionary by value (descending) and return the top 3 most common words\\n    return sorted(word_counts.items(), key=lambda x: x[1], reverse=True)[:3]\\n[/PYTHON]\\n']\n",
      "test case failed: \n",
      "failed\n",
      "running average 0.3333333333333333, 1 correct, 3 total\n",
      "\n",
      "evaluating problem 3\n",
      "task:  Write a python function to find the volume of a triangular prism.\n",
      "solutions:  [\" Here's my attempt at writing this function in Python:\\n[PYTHON]\\ndef find_volume(base, height, length):\\n    return base * height * length\\n[/PYTHON]\"]\n",
      "test case failed: \n",
      "failed\n",
      "running average 0.25, 1 correct, 4 total\n",
      "\n",
      "evaluating problem 4\n",
      "task:  Write a function to split a string at lowercase letters.\n",
      "solutions:  [' [PYTHON]\\ndef split_lowerstring(input_str):\\n    result = []\\n    current_word = \"\"\\n    for char in input_str:\\n        if char.islower():\\n            current_word += char\\n        else:\\n            if current_word != \"\":\\n                result.append(current_word)\\n                current_word = \"\"\\n    if current_word != \"\":\\n        result.append(current_word)\\n    return result\\n[/PYTHON]\\n']\n",
      "test case failed: \n",
      "failed\n",
      "running average 0.2, 1 correct, 5 total\n",
      "\n",
      "evaluating problem 5\n",
      "task:  Write a function to find sequences of lowercase letters joined with an underscore.\n",
      "solutions:  [' Here is the solution you requested:\\n[PYTHON]\\ndef text_lowercase_underscore(text):\\n    if \"_\" in text:\\n        return \"Found a match!\"\\n    else:\\n        return \"Not matched!\"\\n[/PYTHON]']\n",
      "test case failed: \n",
      "failed\n",
      "running average 0.16666666666666666, 1 correct, 6 total\n",
      "\n",
      "evaluating problem 6\n",
      "task:  Write a function to find the perimeter of a square.\n",
      "solutions:  [' [PYTHON]\\ndef square_perimeter(side):\\n    return 4 * side\\n[/PYTHON]']\n",
      "passed\n",
      "running average 0.2857142857142857, 2 correct, 7 total\n",
      "\n",
      "evaluating problem 7\n",
      "task:  Write a function to remove characters from the first string which are present in the second string.\n",
      "solutions:  [\" Here is my solution:\\n[PYTHON]\\ndef remove_dirty_chars(str1, str2):\\n    return ''.join([c for c in str1 if c not in str2])\\n[/PYTHON]\"]\n",
      "passed\n",
      "running average 0.375, 3 correct, 8 total\n",
      "\n",
      "evaluating problem 8\n",
      "task:  Write a function to find whether a given array of integers contains any duplicate element.\n",
      "solutions:  [' \\n[PYTHON]\\ndef test_duplicate(mylist):\\n    return len(mylist) != len(set(mylist))\\n[/PYTHON]']\n",
      "passed\n",
      "running average 0.4444444444444444, 4 correct, 9 total\n",
      "\n",
      "evaluating problem 9\n",
      "task:  Write a function to check if the given number is woodball or not.\n",
      "solutions:  [' [PYTHON]\\ndef is_woodall(n):\\n    str_n = str(n)\\n    for i in range(len(str_n)):\\n        if not str_n[i].isdigit():\\n            return False\\n    return sum([int(d)**2 for d in str_n]) == n\\n[/PYTHON]  \\n']\n",
      "test case failed: \n",
      "failed\n",
      "running average 0.4, 4 correct, 10 total\n",
      "\n",
      "evaluating problem 10\n",
      "task:  Write a function to find m number of multiples of n.\n",
      "solutions:  [' [PYTHON]\\ndef multiples_of_num(num, m):\\n    return [num*i for i in range(m)]\\n[/PYTHON]']\n",
      "test case failed: \n",
      "failed\n",
      "running average 0.36363636363636365, 4 correct, 11 total\n",
      "\n",
      "evaluating problem 11\n",
      "task:  Write a function to find the first duplicate element in a given array of integers.\n",
      "solutions:  [' [PYTHON]\\ndef find_first_duplicate(arr):\\n    for i in range(len(arr)):\\n        if arr[i] in arr[:i] or arr[i] in arr[i+1:]:\\n            return arr[i]\\n    return -1\\n[/PYTHON]  \\n']\n",
      "passed\n",
      "running average 0.4166666666666667, 5 correct, 12 total\n",
      "\n",
      "evaluating problem 12\n",
      "task:  Write a python function to find the maximum sum of elements of list in a list of lists.\n",
      "solutions:  [' \\n[PYTHON]\\ndef maximum_sum(my_list):\\n    return max(sum(sublist) for sublist in my_list)\\n[/PYTHON]\\n']\n",
      "passed\n",
      "running average 0.46153846153846156, 6 correct, 13 total\n",
      "\n",
      "evaluating problem 13\n",
      "task:  Write a function to convert the given binary number to its decimal equivalent.\n",
      "solutions:  [' [PYTHON]\\ndef binary_to_decimal(binary_string):\\n    return int(binary_string, 2)\\n[/PYTHON]']\n",
      "test case failed: int() can't convert non-string with explicit base\n",
      "failed\n",
      "running average 0.42857142857142855, 6 correct, 14 total\n",
      "\n",
      "evaluating problem 14\n",
      "task:  Write a python function to find the product of non-repeated elements in a given array.\n",
      "solutions:  [\" [PYTHON]\\ndef find_product(arr):\\n    # Initialize result with the first element\\n    result = arr[0]\\n    \\n    # Loop through the rest of the elements\\n    for i in range(1, len(arr)):\\n        # If the current element is not present in result\\n        if arr[i] not in result:\\n            # Multiply it with the previous result\\n            result *= arr[i]\\n    \\n    return result\\n[/PYTHON]\\nThis solution uses a set to keep track of the unique elements in the input list. It iterates over the list and checks if each element is already present in the set. If it's not, then it multiplies the result by that element and adds it to the set. This way, we only consider each element once, and the product of all non-repeated elements is returned at the end.\"]\n",
      "test case failed: find_product() takes 1 positional argument but 2 were given\n",
      "failed\n",
      "running average 0.4, 6 correct, 15 total\n",
      "\n",
      "evaluating problem 15\n",
      "task:  Write a function to check if the given tuple list has all k elements.\n",
      "solutions:  [' \\n[PYTHON]\\ndef check_k_elements(tuple_list, k):\\n    for tup in tuple_list:\\n        if len(tup) != k:\\n            return False\\n    return True\\n[/PYTHON]\\n']\n",
      "test case failed: \n",
      "failed\n",
      "running average 0.375, 6 correct, 16 total\n",
      "\n",
      "evaluating problem 16\n",
      "task:  Write a python function to remove all digits from a list of strings.\n",
      "solutions:  [' [PYTHON]\\ndef remove(my_list):\\n    return [word.replace(digit, \"\") for word in my_list for digit in \"0123456789\" if digit in word]\\n[/PYTHON]']\n",
      "test case failed: \n",
      "failed\n",
      "running average 0.35294117647058826, 6 correct, 17 total\n",
      "\n",
      "evaluating problem 17\n",
      "task:  Write a python function to find binomial co-efficient.\n",
      "solutions:  [' [PYTHON]\\ndef binomial_Coeff(n, k):\\n    if k > n - k:\\n        k = n - k\\n    res = 1\\n    for i in range(k):\\n        res *= n - i\\n        res //= i + 1\\n    return res\\n[/PYTHON]']\n",
      "passed\n",
      "running average 0.3888888888888889, 7 correct, 18 total\n",
      "\n",
      "evaluating problem 18\n",
      "task:  Write a python function to find the element occurring odd number of times.\n",
      "solutions:  [' [PYTHON]\\ndef get_odd_occurrence(my_list):\\n    unique_elements = set()\\n    for element in my_list:\\n        if element not in unique_elements:\\n            unique_elements.add(element)\\n    for element in unique_elements:\\n        if my_list.count(element) % 2 != 0:\\n            return element\\n[/PYTHON]']\n",
      "test case failed: get_odd_occurrence() takes 1 positional argument but 2 were given\n",
      "failed\n",
      "running average 0.3684210526315789, 7 correct, 19 total\n",
      "\n",
      "evaluating problem 19\n",
      "task:  Write a python function to count all the substrings starting and ending with same characters.\n",
      "solutions:  [\" Here's my solution in Python:\\n[PYTHON]\\ndef count_substrings(input_str):\\n    count = 0\\n    for i in range(len(input_str)):\\n        for j in range(i+1, len(input_str)+1):\\n            if input_str[i] == input_str[j-1]:\\n                count += 1\\n    return count\\n[/PYTHON]\"]\n",
      "passed\n",
      "running average 0.4, 8 correct, 20 total\n",
      "\n",
      "evaluating problem 20\n",
      "task:  Write a function to find the top k integers that occur most frequently from given lists of sorted and distinct integers using heap queue algorithm.\n",
      "solutions:  [' \\n[PYTHON]\\ndef func(lists, k):\\n    # Create a dictionary to store the frequency of each integer\\n    freq = {}\\n    for lst in lists:\\n        for num in lst:\\n            if num in freq:\\n                freq[num] += 1\\n            else:\\n                freq[num] = 1\\n    \\n    # Create a min heap to store the top k frequencies\\n    min_heap = []\\n    for num, freq in freq.items():\\n        heapq.heappush(min_heap, (freq, num))\\n    \\n    # Remove the top k frequencies from the min heap\\n    result = []\\n    for i in range(k):\\n        freq, num = heapq.heappop(min_heap)\\n        result.append(num)\\n    \\n    return result\\n[/PYTHON]\\n']\n",
      "test case failed: name 'heapq' is not defined\n",
      "failed\n",
      "running average 0.38095238095238093, 8 correct, 21 total\n",
      "\n",
      "evaluating problem 21\n",
      "task:  Write a python function to find the largest prime factor of a given number.\n",
      "solutions:  [\" Here's my solution in Python:\\n[PYTHON]\\ndef max_prime_factors(n):\\n    if n <= 1:\\n        return n\\n    \\n    i = 2\\n    while i * i <= n:\\n        if n % i == 0:\\n            n //= i\\n        else:\\n            i += 1\\n    \\n    return n\\n[/PYTHON]\"]\n",
      "passed\n",
      "running average 0.4090909090909091, 9 correct, 22 total\n",
      "\n",
      "evaluating problem 22\n",
      "task:  Write a python function to convert a decimal number to binary number.\n",
      "solutions:  [' [PYTHON]\\ndef decimal_to_binary(n):\\n    return bin(n)[2:]\\n[/PYTHON]\\nThis code uses the built-in `bin()` function in Python to convert a decimal number to its binary representation. The `bin()` function returns a string that starts with \"0b\", followed by the binary digits of the input number. To get rid of this prefix, we use slicing to extract only the part of the string starting from index 2 (the first character after the \"0b\"). This gives us the desired binary representation as a string.']\n",
      "test case failed: \n",
      "failed\n",
      "running average 0.391304347826087, 9 correct, 23 total\n",
      "\n",
      "evaluating problem 23\n",
      "task:  Write a python function to find the missing number in a sorted array.\n",
      "solutions:  [' [PYTHON]\\ndef find_missing(my_list, expected_position):\\n    for i in range(len(my_list)):\\n        if my_list[i] != expected_position + 1:\\n            return expected_position + 1\\n    return -1\\n[/PYTHON]\\nTest cases:\\n\\n* assert find_missing([1, 2, 3, 5], 4) == 4\\n* assert find_missing([1, 3, 4, 5], 2) == 4\\n* assert find_missing([1, 2, 3, 5, 6, 7], 5) == 4']\n",
      "test case failed: \n",
      "failed\n",
      "running average 0.375, 9 correct, 24 total\n",
      "\n"
     ]
    }
   ],
   "source": [
    "# Initialize counters for pass@k metrics\n",
    "pass_at_1 = pass_at_10 = pass_at_100 = 0\n",
    "for i, problem in enumerate(dataset_full['test']):\n",
    "    task = problem['text']\n",
    "    test_cases = problem['test_list']\n",
    "   \n",
    "    # Generate solutions using the base LLM or a LoRA adapter\n",
    "    # Rarely the predibase server times out, this will retry up to 3 times before going to next sample \n",
    "    for _ in range(3):  # Attempt to call generate_solutions up to 3 times\n",
    "        try:\n",
    "            solutions = generate_solutions(task, str(test_cases), k=1)\n",
    "            break  # If call is successful, break out of the loop\n",
    "        except Exception as e:\n",
    "            print('Attempt failed with error:', e)\n",
    "            if _ == 2:  # If this was the last attempt, prepare to continue the outer loop\n",
    "                print('Could not get response from LLM server after 3 attempts.')\n",
    "                continue  # Continue the outer loop if all attempts fail\n",
    "        \n",
    "    print(f\"evaluating problem {i}\")\n",
    "    print(\"task: \", task)\n",
    "    print(\"solutions: \", solutions)\n",
    "\n",
    "    # Evaluate solutions\n",
    "    #if eval_llm_output(solutions[0], test_cases):\n",
    "    if eval_llm_top_k(solutions, test_cases, [1])[0]:\n",
    "        pass_at_1 += 1\n",
    "        print('passed')\n",
    "    else:\n",
    "        print('failed')\n",
    "\n",
    "    print(f'running average {pass_at_1/(i+1)}, {pass_at_1} correct, {i+1} total')\n",
    "    print()"
   ]
  },
  {
   "cell_type": "code",
   "execution_count": 42,
   "id": "6e0c50a0-de64-406b-ae8b-8248dedee3e2",
   "metadata": {},
   "outputs": [
    {
     "data": {
      "text/plain": [
       "0.29"
      ]
     },
     "execution_count": 42,
     "metadata": {},
     "output_type": "execute_result"
    }
   ],
   "source": [
    "pass_at_1 / 500"
   ]
  },
  {
   "cell_type": "code",
   "execution_count": null,
   "id": "e8d08f7b-4055-43b0-926f-bcf8d431f0be",
   "metadata": {},
   "outputs": [],
   "source": [
    "58,76 is interesting why it fails\n"
   ]
  },
  {
   "cell_type": "code",
   "execution_count": null,
   "id": "0df01e1e-82b3-40ff-ac2b-e84d56b9a772",
   "metadata": {},
   "outputs": [],
   "source": []
  }
 ],
 "metadata": {
  "kernelspec": {
   "display_name": "predibase_hugging",
   "language": "python",
   "name": "predibase_hugging"
  },
  "language_info": {
   "codemirror_mode": {
    "name": "ipython",
    "version": 3
   },
   "file_extension": ".py",
   "mimetype": "text/x-python",
   "name": "python",
   "nbconvert_exporter": "python",
   "pygments_lexer": "ipython3",
   "version": "3.11.7"
  }
 },
 "nbformat": 4,
 "nbformat_minor": 5
}
