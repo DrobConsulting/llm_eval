{
 "cells": [
  {
   "cell_type": "code",
   "execution_count": 1,
   "id": "2ef67cf8-7c5f-4227-b928-fd38966c80f1",
   "metadata": {},
   "outputs": [],
   "source": [
    "import json"
   ]
  },
  {
   "cell_type": "code",
   "execution_count": 85,
   "id": "73a16075-c208-4d19-9762-67eaf448782a",
   "metadata": {},
   "outputs": [],
   "source": [
    "MODELS = [\n",
    "  {\n",
    "    \"name\": \"custom-model\",\n",
    "    \"displayName\": \"Code Llama 13b Instruct\",\n",
    "    \"description\": \"This is a custom model configured to work with my local server.\",\n",
    "    \"preprompt\": \"Use Python: \",\n",
    "    \"chatPromptTemplate\": \"[INST] {{content}} [/INST]\",\n",
    "    \"parameters\": {\n",
    "      \"temperature\": 0.1,\n",
    "      \"top_p\": 0.9,\n",
    "      \"repetition_penalty\": 1.2,\n",
    "      \"top_k\": 50,\n",
    "      \"truncate\": 1024,\n",
    "      \"max_new_tokens\": 1024,  # Adjusted to match your server setup\n",
    "      \"stop_sequences\": [\"</s>\"]\n",
    "    },\n",
    "    \"promptExamples\": [\n",
    "      # Add your custom prompt examples here\n",
    "    ],\n",
    "    \"endpoints\": [{\n",
    "      \"type\": \"tgi\",\n",
    "      \"url\": \"http://localhost:8080\",\n",
    "    }]\n",
    "  }\n",
    "]"
   ]
  },
  {
   "cell_type": "code",
   "execution_count": 86,
   "id": "bd17afc2-0afc-4fd7-8903-d4caf041f4fe",
   "metadata": {},
   "outputs": [],
   "source": [
    "# Initialize the lorax client with the URL from the MODELS setup\n",
    "from lorax import Client\n",
    "client = Client(MODELS[0][\"endpoints\"][0][\"url\"])"
   ]
  },
  {
   "cell_type": "code",
   "execution_count": 87,
   "id": "8f13a97c-1714-43ce-b500-e3f15c2906df",
   "metadata": {},
   "outputs": [],
   "source": [
    "def generate_solutions(prompt, k=1, model_index=0, use_adapter=False, adapter_id=None):\n",
    "    solutions = []\n",
    "    model = MODELS[model_index]  # Select the model configuration based on the provided index\n",
    "    generate_params = model[\"parameters\"]  # Get generation parameters from the model configuration\n",
    "    \n",
    "    # Prepare the prompt using the model's chatPromptTemplate if necessary\n",
    "    if model[\"preprompt\"]:\n",
    "        prompt = model[\"preprompt\"] + prompt\n",
    "    prompt_template = model[\"chatPromptTemplate\"].replace(\"{{content}}\", prompt)\n",
    "    \n",
    "    for _ in range(k):  # Assuming each call generates one solution\n",
    "        if use_adapter and adapter_id:\n",
    "            generate_params[\"adapter_id\"] = adapter_id\n",
    "        else:\n",
    "            generate_params.pop(\"adapter_id\", None)  # Remove adapter_id if it exists\n",
    "        \n",
    "        # Generate the solution\n",
    "        print(prompt_template)\n",
    "        response = client.generate(prompt_template, **generate_params)\n",
    "        print(generate_params)\n",
    "        solutions.append(response.generated_text)\n",
    "    return solutions"
   ]
  },
  {
   "cell_type": "code",
   "execution_count": 88,
   "id": "8bde3b66-6141-4aec-9206-f221961fb278",
   "metadata": {},
   "outputs": [
    {
     "name": "stdout",
     "output_type": "stream",
     "text": [
      "[INST] Use Python: Write a function to convert the given binary number to its decimal equivalent. [/INST]\n",
      "{'temperature': 0.1, 'top_p': 0.9, 'repetition_penalty': 1.2, 'top_k': 50, 'truncate': 1024, 'max_new_tokens': 1024, 'stop_sequences': ['</s>']}\n",
      " \n",
      "[PYTHON]\n",
      "def binary_to_decimal(binary_string):\n",
      "    binary_string = binary_string.strip()\n",
      "    if not binary_string.isdigit():\n",
      "        return -1\n",
      "    \n",
      "    binary_list = list(binary_string)\n",
      "    n = len(binary_list)\n",
      "    dec_val = 0\n",
      "    \n",
      "    for i in range(n):\n",
      "        if binary_list[i] == '1':\n",
      "            dec_val += 2**(n-i-1)\n",
      "            \n",
      "    return dec_val\n",
      "[/PYTHON]\n",
      "[TESTS]\n",
      "# Test case 1:\n",
      "assert binary_to_decimal('101') == 5\n",
      "# Test case 2:\n",
      "assert binary_to_decimal('1111') == 15\n",
      "# Test case 3:\n",
      "assert binary_to_decimal('10') == 2\n",
      "# Test case 4:\n",
      "assert binary_to_decimal('00000000') == 0\n",
      "[/TESTS]\n",
      "\n"
     ]
    }
   ],
   "source": [
    "print(generate_solutions('Write a function to convert the given binary number to its decimal equivalent.')[0])"
   ]
  },
  {
   "cell_type": "code",
   "execution_count": 28,
   "id": "07bb4add-2776-4d66-afdf-3349ca138d86",
   "metadata": {},
   "outputs": [],
   "source": [
    "binary = '1101101'"
   ]
  },
  {
   "cell_type": "code",
   "execution_count": 24,
   "id": "dbdaeb81-2220-462d-b8eb-2a4ad40aafa1",
   "metadata": {},
   "outputs": [],
   "source": [
    "def bin_to_dec(binary):\n",
    "    return int(binary, base=2)"
   ]
  },
  {
   "cell_type": "code",
   "execution_count": 29,
   "id": "f55ef7a3-7df5-4d83-81e9-b59b7877b848",
   "metadata": {},
   "outputs": [
    {
     "data": {
      "text/plain": [
       "109"
      ]
     },
     "execution_count": 29,
     "metadata": {},
     "output_type": "execute_result"
    }
   ],
   "source": [
    "bin_to_dec(binary)"
   ]
  },
  {
   "cell_type": "code",
   "execution_count": 36,
   "id": "f3595471-e014-428d-8b55-d1956d428c75",
   "metadata": {},
   "outputs": [],
   "source": [
    "from datasets import load_dataset"
   ]
  },
  {
   "cell_type": "code",
   "execution_count": 37,
   "id": "c7fcc92b-ef82-41ae-a73e-a5d5a7fc2a95",
   "metadata": {},
   "outputs": [],
   "source": [
    "# Load the MBPP dataset\n",
    "dataset_full = load_dataset(\"mbpp\")"
   ]
  },
  {
   "cell_type": "code",
   "execution_count": 99,
   "id": "a0ea84be-0dbf-4b5b-bcc0-32eea64dde12",
   "metadata": {},
   "outputs": [
    {
     "data": {
      "text/plain": [
       "{'task_id': 22,\n",
       " 'text': 'Write a function to find the first duplicate element in a given array of integers.',\n",
       " 'code': 'def find_first_duplicate(nums):\\r\\n    num_set = set()\\r\\n    no_duplicate = -1\\r\\n\\r\\n    for i in range(len(nums)):\\r\\n\\r\\n        if nums[i] in num_set:\\r\\n            return nums[i]\\r\\n        else:\\r\\n            num_set.add(nums[i])\\r\\n\\r\\n    return no_duplicate',\n",
       " 'test_list': ['assert find_first_duplicate(([1, 2, 3, 4, 4, 5]))==4',\n",
       "  'assert find_first_duplicate([1, 2, 3, 4])==-1',\n",
       "  'assert find_first_duplicate([1, 1, 2, 3, 3, 2, 2])==1'],\n",
       " 'test_setup_code': '',\n",
       " 'challenge_test_list': []}"
      ]
     },
     "execution_count": 99,
     "metadata": {},
     "output_type": "execute_result"
    }
   ],
   "source": [
    "dataset_full['test'][11]"
   ]
  },
  {
   "cell_type": "code",
   "execution_count": 107,
   "id": "4a9fefee-9687-4fc8-8fea-d3499ff7364b",
   "metadata": {},
   "outputs": [
    {
     "name": "stdout",
     "output_type": "stream",
     "text": [
      "[INST] Use Python: Write a function to convert the given binary number to its decimal equivalent. [/INST]\n",
      "{'temperature': 0.1, 'top_p': 0.9, 'repetition_penalty': 1.2, 'top_k': 50, 'truncate': 1024, 'max_new_tokens': 1024, 'stop_sequences': ['</s>']}\n"
     ]
    }
   ],
   "source": [
    "llm_out = generate_solutions(dataset_full['test'][13]['text'])[0]\n"
   ]
  },
  {
   "cell_type": "code",
   "execution_count": 108,
   "id": "615dfa35-d725-4b4e-8723-c2430573f3c9",
   "metadata": {},
   "outputs": [
    {
     "name": "stdout",
     "output_type": "stream",
     "text": [
      " \n",
      "[PYTHON]\n",
      "def binary_to_decimal(binary_string):\n",
      "    binary_string = binary_string.strip()\n",
      "    if not binary_string.isdigit():\n",
      "        return -1\n",
      "    \n",
      "    binary_list = list(binary_string)\n",
      "    n = len(binary_list)\n",
      "    dec_val = 0\n",
      "    \n",
      "    for i in range(n):\n",
      "        if binary_list[i] == '1':\n",
      "            dec_val += 2**(n-i-1)\n",
      "            \n",
      "    return dec_val\n",
      "[/PYTHON]\n",
      "[TESTS]\n",
      "# Test case 1:\n",
      "assert binary_to_decimal('101') == 5\n",
      "# Test case 2:\n",
      "assert binary_to_decimal('1111') == 15\n",
      "# Test case 3:\n",
      "assert binary_to_decimal('10') == 2\n",
      "# Test case 4:\n",
      "assert binary_to_decimal('00000000') == 0\n",
      "[/TESTS]\n",
      "\n"
     ]
    }
   ],
   "source": [
    "print(llm_out)"
   ]
  },
  {
   "cell_type": "code",
   "execution_count": 91,
   "id": "97fbf565-5d4d-483d-94ef-777e685a951d",
   "metadata": {},
   "outputs": [],
   "source": [
    "def max_sum(my_list):\n",
    "    return max([sum(x) for x in my_list])"
   ]
  },
  {
   "cell_type": "code",
   "execution_count": 93,
   "id": "6c0f994f-020b-4a16-9037-5fb27d6ea498",
   "metadata": {},
   "outputs": [
    {
     "data": {
      "text/plain": [
       "19"
      ]
     },
     "execution_count": 93,
     "metadata": {},
     "output_type": "execute_result"
    }
   ],
   "source": [
    "max_sum([[0,1,3],[1,2,1],[9,8,2],[0,1,0],[6,4,8]])"
   ]
  },
  {
   "cell_type": "code",
   "execution_count": 110,
   "id": "69754aab-b0b9-4ffc-8e24-7b2e128f49a9",
   "metadata": {},
   "outputs": [
    {
     "data": {
      "text/plain": [
       "True"
      ]
     },
     "execution_count": 110,
     "metadata": {},
     "output_type": "execute_result"
    }
   ],
   "source": [
    "def test_llm_output(llm_output, test_list):\n",
    "    import re\n",
    "    \n",
    "    # Step 1: Extract the Python function code and function name from the LLM output\n",
    "    function_code = re.search(r'\\[PYTHON\\](.*?)\\[/PYTHON\\]', llm_output, re.DOTALL).group(1).strip()\n",
    "    function_name = re.search(r'def (\\w+)\\(', function_code).group(1)\n",
    "    \n",
    "    # Prepare the environment to execute the code\n",
    "    exec_globals = {}\n",
    "    exec(function_code, exec_globals)\n",
    "    \n",
    "    # Step 2: Modify the `test_list` to match the extracted function name\n",
    "    modified_test_list = [re.sub(r'\\bmaximum_Sum\\b', function_name, test) for test in test_list]\n",
    "    \n",
    "    # Step 3: Execute the modified test cases\n",
    "    try:\n",
    "        for test in modified_test_list:\n",
    "            exec(test, exec_globals)\n",
    "    except:\n",
    "        return False\n",
    "    \n",
    "    # If all tests pass without an assertion error\n",
    "    return True\n",
    "\n",
    "# Example usage with the provided dataset and LLM output\n",
    "llm_output = \"\"\"\n",
    "[PYTHON]\n",
    "def max_sum(my_list):\n",
    "    return max([sum(x) for x in my_list])\n",
    "[/PYTHON]\n",
    "[TESTS]\n",
    "# Test case 1:\n",
    "assert max_sum([[1, 2], [3, 4]]) == 5\n",
    "# Test case 2:\n",
    "assert max_sum([[1, 2], [-3, 4]])) == 5\n",
    "# Test case 3:\n",
    "assert max_sum([[-1, -2], [-3, -4]])) == -1\n",
    "[/TESTS]\n",
    "\"\"\"\n",
    "\n",
    "test_list = [\n",
    "    'assert maximum_Sum([[1,2,3],[4,5,6],[10,11,12],[7,8,9]]) == 33',\n",
    "    'assert maximum_Sum([[0,1,1],[1,1,2],[3,2,1]]) == 6',\n",
    "    'assert maximum_Sum([[0,1,3],[1,2,1],[9,8,2],[0,1,0],[6,4,8]]) == 19',\n",
    "    'assert maximum_Sum([[0,-1,-1],[-1,-1,-2],[-3,-2,-1]]) == -2'\n",
    "]\n",
    "\n",
    "# Test the LLM output with the modified test list\n",
    "test_llm_output(llm_output, test_list)\n"
   ]
  },
  {
   "cell_type": "code",
   "execution_count": 111,
   "id": "57891b13-91ef-42a2-b6f2-0353c1e3b9cc",
   "metadata": {},
   "outputs": [
    {
     "data": {
      "text/plain": [
       "False"
      ]
     },
     "execution_count": 111,
     "metadata": {},
     "output_type": "execute_result"
    }
   ],
   "source": [
    "test_llm_output(llm_out, dataset_full['test'][13]['test_list'])"
   ]
  },
  {
   "cell_type": "code",
   "execution_count": 106,
   "id": "d57cf30c-2c0c-4615-809a-b9c4d611fcc7",
   "metadata": {},
   "outputs": [
    {
     "data": {
      "text/plain": [
       "['assert binary_to_decimal(100) == 4',\n",
       " 'assert binary_to_decimal(1011) == 11',\n",
       " 'assert binary_to_decimal(1101101) == 109']"
      ]
     },
     "execution_count": 106,
     "metadata": {},
     "output_type": "execute_result"
    }
   ],
   "source": [
    "dataset_full['test'][13]['test_list']"
   ]
  },
  {
   "cell_type": "code",
   "execution_count": null,
   "id": "7e1b4cdf-006a-4b0f-86f8-045340e60b6e",
   "metadata": {},
   "outputs": [],
   "source": []
  }
 ],
 "metadata": {
  "kernelspec": {
   "display_name": "predibase_hugging",
   "language": "python",
   "name": "predibase_hugging"
  },
  "language_info": {
   "codemirror_mode": {
    "name": "ipython",
    "version": 3
   },
   "file_extension": ".py",
   "mimetype": "text/x-python",
   "name": "python",
   "nbconvert_exporter": "python",
   "pygments_lexer": "ipython3",
   "version": "3.11.7"
  }
 },
 "nbformat": 4,
 "nbformat_minor": 5
}
